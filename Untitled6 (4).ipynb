{
  "nbformat": 4,
  "nbformat_minor": 0,
  "metadata": {
    "colab": {
      "provenance": [],
      "gpuType": "T4"
    },
    "kernelspec": {
      "name": "python3",
      "display_name": "Python 3"
    },
    "language_info": {
      "name": "python"
    },
    "accelerator": "GPU"
  },
  "cells": [
    {
      "cell_type": "code",
      "execution_count": null,
      "metadata": {
        "colab": {
          "base_uri": "https://localhost:8080/"
        },
        "id": "XCcLER19E6-q",
        "outputId": "f97feaf4-9c96-49c7-d952-032debe44ad2"
      },
      "outputs": [
        {
          "output_type": "stream",
          "name": "stdout",
          "text": [
            "Requirement already satisfied: gradio in /usr/local/lib/python3.10/dist-packages (5.8.0)\n",
            "Requirement already satisfied: aiofiles<24.0,>=22.0 in /usr/local/lib/python3.10/dist-packages (from gradio) (23.2.1)\n",
            "Requirement already satisfied: anyio<5.0,>=3.0 in /usr/local/lib/python3.10/dist-packages (from gradio) (3.7.1)\n",
            "Requirement already satisfied: fastapi<1.0,>=0.115.2 in /usr/local/lib/python3.10/dist-packages (from gradio) (0.115.6)\n",
            "Requirement already satisfied: ffmpy in /usr/local/lib/python3.10/dist-packages (from gradio) (0.4.0)\n",
            "Requirement already satisfied: gradio-client==1.5.1 in /usr/local/lib/python3.10/dist-packages (from gradio) (1.5.1)\n",
            "Requirement already satisfied: httpx>=0.24.1 in /usr/local/lib/python3.10/dist-packages (from gradio) (0.28.0)\n",
            "Requirement already satisfied: huggingface-hub>=0.25.1 in /usr/local/lib/python3.10/dist-packages (from gradio) (0.26.3)\n",
            "Requirement already satisfied: jinja2<4.0 in /usr/local/lib/python3.10/dist-packages (from gradio) (3.1.4)\n",
            "Requirement already satisfied: markupsafe~=2.0 in /usr/local/lib/python3.10/dist-packages (from gradio) (2.1.5)\n",
            "Requirement already satisfied: numpy<3.0,>=1.0 in /usr/local/lib/python3.10/dist-packages (from gradio) (1.26.4)\n",
            "Requirement already satisfied: orjson~=3.0 in /usr/local/lib/python3.10/dist-packages (from gradio) (3.10.12)\n",
            "Requirement already satisfied: packaging in /usr/local/lib/python3.10/dist-packages (from gradio) (24.2)\n",
            "Requirement already satisfied: pandas<3.0,>=1.0 in /usr/local/lib/python3.10/dist-packages (from gradio) (2.2.2)\n",
            "Requirement already satisfied: pillow<12.0,>=8.0 in /usr/local/lib/python3.10/dist-packages (from gradio) (11.0.0)\n",
            "Requirement already satisfied: pydantic>=2.0 in /usr/local/lib/python3.10/dist-packages (from gradio) (2.10.3)\n",
            "Requirement already satisfied: pydub in /usr/local/lib/python3.10/dist-packages (from gradio) (0.25.1)\n",
            "Requirement already satisfied: python-multipart>=0.0.18 in /usr/local/lib/python3.10/dist-packages (from gradio) (0.0.19)\n",
            "Requirement already satisfied: pyyaml<7.0,>=5.0 in /usr/local/lib/python3.10/dist-packages (from gradio) (6.0.2)\n",
            "Requirement already satisfied: ruff>=0.2.2 in /usr/local/lib/python3.10/dist-packages (from gradio) (0.8.2)\n",
            "Requirement already satisfied: safehttpx<0.2.0,>=0.1.6 in /usr/local/lib/python3.10/dist-packages (from gradio) (0.1.6)\n",
            "Requirement already satisfied: semantic-version~=2.0 in /usr/local/lib/python3.10/dist-packages (from gradio) (2.10.0)\n",
            "Requirement already satisfied: starlette<1.0,>=0.40.0 in /usr/local/lib/python3.10/dist-packages (from gradio) (0.41.3)\n",
            "Requirement already satisfied: tomlkit<0.14.0,>=0.12.0 in /usr/local/lib/python3.10/dist-packages (from gradio) (0.13.2)\n",
            "Requirement already satisfied: typer<1.0,>=0.12 in /usr/local/lib/python3.10/dist-packages (from gradio) (0.15.0)\n",
            "Requirement already satisfied: typing-extensions~=4.0 in /usr/local/lib/python3.10/dist-packages (from gradio) (4.12.2)\n",
            "Requirement already satisfied: uvicorn>=0.14.0 in /usr/local/lib/python3.10/dist-packages (from gradio) (0.32.1)\n",
            "Requirement already satisfied: fsspec in /usr/local/lib/python3.10/dist-packages (from gradio-client==1.5.1->gradio) (2024.10.0)\n",
            "Requirement already satisfied: websockets<15.0,>=10.0 in /usr/local/lib/python3.10/dist-packages (from gradio-client==1.5.1->gradio) (14.1)\n",
            "Requirement already satisfied: idna>=2.8 in /usr/local/lib/python3.10/dist-packages (from anyio<5.0,>=3.0->gradio) (3.10)\n",
            "Requirement already satisfied: sniffio>=1.1 in /usr/local/lib/python3.10/dist-packages (from anyio<5.0,>=3.0->gradio) (1.3.1)\n",
            "Requirement already satisfied: exceptiongroup in /usr/local/lib/python3.10/dist-packages (from anyio<5.0,>=3.0->gradio) (1.2.2)\n",
            "Requirement already satisfied: certifi in /usr/local/lib/python3.10/dist-packages (from httpx>=0.24.1->gradio) (2024.8.30)\n",
            "Requirement already satisfied: httpcore==1.* in /usr/local/lib/python3.10/dist-packages (from httpx>=0.24.1->gradio) (1.0.7)\n",
            "Requirement already satisfied: h11<0.15,>=0.13 in /usr/local/lib/python3.10/dist-packages (from httpcore==1.*->httpx>=0.24.1->gradio) (0.14.0)\n",
            "Requirement already satisfied: filelock in /usr/local/lib/python3.10/dist-packages (from huggingface-hub>=0.25.1->gradio) (3.16.1)\n",
            "Requirement already satisfied: requests in /usr/local/lib/python3.10/dist-packages (from huggingface-hub>=0.25.1->gradio) (2.32.3)\n",
            "Requirement already satisfied: tqdm>=4.42.1 in /usr/local/lib/python3.10/dist-packages (from huggingface-hub>=0.25.1->gradio) (4.66.6)\n",
            "Requirement already satisfied: python-dateutil>=2.8.2 in /usr/local/lib/python3.10/dist-packages (from pandas<3.0,>=1.0->gradio) (2.8.2)\n",
            "Requirement already satisfied: pytz>=2020.1 in /usr/local/lib/python3.10/dist-packages (from pandas<3.0,>=1.0->gradio) (2024.2)\n",
            "Requirement already satisfied: tzdata>=2022.7 in /usr/local/lib/python3.10/dist-packages (from pandas<3.0,>=1.0->gradio) (2024.2)\n",
            "Requirement already satisfied: annotated-types>=0.6.0 in /usr/local/lib/python3.10/dist-packages (from pydantic>=2.0->gradio) (0.7.0)\n",
            "Requirement already satisfied: pydantic-core==2.27.1 in /usr/local/lib/python3.10/dist-packages (from pydantic>=2.0->gradio) (2.27.1)\n",
            "Requirement already satisfied: click>=8.0.0 in /usr/local/lib/python3.10/dist-packages (from typer<1.0,>=0.12->gradio) (8.1.7)\n",
            "Requirement already satisfied: shellingham>=1.3.0 in /usr/local/lib/python3.10/dist-packages (from typer<1.0,>=0.12->gradio) (1.5.4)\n",
            "Requirement already satisfied: rich>=10.11.0 in /usr/local/lib/python3.10/dist-packages (from typer<1.0,>=0.12->gradio) (13.9.4)\n",
            "Requirement already satisfied: six>=1.5 in /usr/local/lib/python3.10/dist-packages (from python-dateutil>=2.8.2->pandas<3.0,>=1.0->gradio) (1.16.0)\n",
            "Requirement already satisfied: markdown-it-py>=2.2.0 in /usr/local/lib/python3.10/dist-packages (from rich>=10.11.0->typer<1.0,>=0.12->gradio) (3.0.0)\n",
            "Requirement already satisfied: pygments<3.0.0,>=2.13.0 in /usr/local/lib/python3.10/dist-packages (from rich>=10.11.0->typer<1.0,>=0.12->gradio) (2.18.0)\n",
            "Requirement already satisfied: charset-normalizer<4,>=2 in /usr/local/lib/python3.10/dist-packages (from requests->huggingface-hub>=0.25.1->gradio) (3.4.0)\n",
            "Requirement already satisfied: urllib3<3,>=1.21.1 in /usr/local/lib/python3.10/dist-packages (from requests->huggingface-hub>=0.25.1->gradio) (2.2.3)\n",
            "Requirement already satisfied: mdurl~=0.1 in /usr/local/lib/python3.10/dist-packages (from markdown-it-py>=2.2.0->rich>=10.11.0->typer<1.0,>=0.12->gradio) (0.1.2)\n"
          ]
        }
      ],
      "source": [
        "import openai\n",
        "import requests\n",
        "from sentence_transformers import SentenceTransformer, util\n",
        "!pip install gradio\n",
        "import gradio as gr\n",
        "import pandas as pd"
      ]
    },
    {
      "cell_type": "code",
      "source": [
        "def serpapi_search(query, api_key):\n",
        "    url = f'https://serpapi.com/search?q={query}&api_key={api_key}'\n",
        "    response = requests.get(url)\n",
        "    if response.status_code == 200:\n",
        "        search_results = response.json()\n",
        "        if 'organic_results' in search_results:\n",
        "            return search_results['organic_results'][0]['snippet']\n",
        "    return \"نتیجه‌ای پیدا نشد.\""
      ],
      "metadata": {
        "id": "iFViQlIbGmHY"
      },
      "execution_count": null,
      "outputs": []
    },
    {
      "cell_type": "code",
      "source": [],
      "metadata": {
        "id": "rWj7HMOvNTWw"
      },
      "execution_count": null,
      "outputs": []
    },
    {
      "cell_type": "code",
      "source": [
        "def load_question_bank():\n",
        "    question_bank = [\n",
        "        {\"question\": \"چه نوع کامپیوتری برام مناسب است؟\", \"answer\": \"بسته به نوع کاربری شما، برای بازی یا کارهای سنگین بهتر است سیستم قوی تهیه کنید، اما برای کارهای عادی یک لپ‌تاپ مناسب کافی است.\"},\n",
        "        {\"question\": \"چقدر حافظه ذخیره سازی نیاز داریم؟\", \"answer\": \"برای استفاده معمولی 512 گیگابایت مناسب است. اگر داده‌های زیادی دارید، بهتر است یک ترابایت یا بیشتر انتخاب کنید.\"},\n",
        "        {\"question\": \"آیا به خنک کننده اضافی نیاز دارم؟\", \"answer\": \"اگر قصد دارید بازی‌های سنگین انجام دهید یا از کامپیوتر برای کارهای پردازشی استفاده کنید، خنک‌کننده اضافی لازم است.\"},\n",
        "        {\"question\": \"آیا گارانتی و خدمات پس از فروش مهم است؟\", \"answer\": \"بله، داشتن گارانتی معتبر و خدمات پس از فروش باعث اطمینان بیشتر از خرید می‌شود.\"},\n",
        "        {\"question\": \"آیا ظاهر کامپیوتر اهمیت دارد؟\", \"answer\": \"اگر کامپیوتر در مکان‌های عمومی استفاده می‌شود یا به طراحی حساس هستید، ظاهر آن مهم است.\"},\n",
        "        {\"question\": \"آیا می‌توانم از سیستم‌های دست دوم استفاده کنم؟\", \"answer\": \"بله، اگر بودجه محدودی دارید، می‌توانید یک سیستم دست دوم سالم تهیه کنید.\"},\n",
        "        {\"question\": \"کدام برند کامپیوتر بهترین است؟\", \"answer\": \"این بستگی به نیاز شما دارد، برندهایی مثل Dell، HP و Lenovo برای کاربردهای اداری و ASUS و MSI برای بازی مناسب هستند.\"},\n",
        "        {\"question\": \"آیا SSD بهتر از HDD است؟\", \"answer\": \"بله، SSD سرعت بسیار بیشتری دارد و برای عملکرد بهتر سیستم پیشنهاد می‌شود.\"},\n",
        "        {\"question\": \"چقدر RAM نیاز دارم؟\", \"answer\": \"برای استفاده معمولی 8 گیگابایت کافی است، اما برای بازی یا کارهای سنگین 16 گیگابایت یا بیشتر توصیه می‌شود.\"},\n",
        "        {\"question\": \"چه کارت گرافیکی برای بازی مناسب است؟\", \"answer\": \"کارت‌های NVIDIA GeForce RTX یا AMD Radeon RX برای بازی‌های سنگین مناسب هستند.\"},\n",
        "        {\"question\": \"آیا استفاده از منبع تغذیه با توان بالا ضروری است؟\", \"answer\": \"برای سیستم‌های قوی، داشتن یک منبع تغذیه با وات کافی و کیفیت بالا ضروری است.\"},\n",
        "        {\"question\": \"آیا یک کامپیوتر کوچک (Mini-PC) برای من کافی است؟\", \"answer\": \"برای کارهای عادی و اداری Mini-PC گزینه‌ای مناسب است، اما برای بازی یا پردازش سنگین مناسب نیست.\"},\n",
        "        {\"question\": \"مانیتور چند اینچی برای من مناسب است؟\", \"answer\": \"برای استفاده خانگی یا اداری معمولاً 24 تا 27 اینچ کافی است.\"},\n",
        "        {\"question\": \"آیا می‌توانم از مانیتور تلویزیون به‌عنوان صفحه‌نمایش استفاده کنم؟\", \"answer\": \"بله، اما ممکن است کیفیت نمایش و تأخیر آن برای بازی مناسب نباشد.\"},\n",
        "        {\"question\": \"آیا خرید کیس آماده بهتر است یا سیستم اسمبل شده؟\", \"answer\": \"برای راحتی بیشتر کیس آماده بهتر است، اما سیستم اسمبل شده آزادی عمل بیشتری به شما می‌دهد.\"},\n",
        "        {\"question\": \"آیا نیاز به نصب سیستم‌عامل دارم؟\", \"answer\": \"بله، معمولاً سیستم‌های بدون سیستم‌عامل ارزان‌تر هستند، اما باید ویندوز یا لینوکس را نصب کنید.\"},\n",
        "        {\"question\": \"چه پردازنده‌ای برای من مناسب است؟\", \"answer\": \"برای کارهای عادی Intel Core i5 یا AMD Ryzen 5 کافی است. برای بازی و پردازش‌های سنگین بهتر است i7 یا Ryzen 7 انتخاب کنید.\"},\n",
        "        {\"question\": \"آیا نیاز به مادربرد گران‌قیمت دارم؟\", \"answer\": \"برای کاربری معمولی مادربردهای میان‌رده کافی هستند، اما برای گیمینگ یا اورکلاک مادربردهای قوی‌تر مناسب‌تر هستند.\"},\n",
        "        {\"question\": \"آیا نصب درایور ضروری است؟\", \"answer\": \"بله، نصب درایورهای صحیح باعث بهبود عملکرد قطعات سیستم می‌شود.\"},\n",
        "        {\"question\": \"چگونه از سیستم خود پشتیبان‌گیری کنم؟\", \"answer\": \"می‌توانید از نرم‌افزارهای پشتیبان‌گیری یا فضای ذخیره‌سازی ابری استفاده کنید.\"},\n",
        "        {\"question\": \"آیا کامپیوتر بدون کارت گرافیک قابل استفاده است؟\", \"answer\": \"بله، برای کارهای عادی می‌توانید از گرافیک مجتمع پردازنده استفاده کنید.\"},\n",
        "        {\"question\": \"چگونه عمر کامپیوتر خود را افزایش دهم؟\", \"answer\": \"به‌روزرسانی قطعات، تمیز کردن منظم و استفاده از خنک‌کننده مناسب کمک می‌کند.\"},\n",
        "        {\"question\": \"آیا می‌توانم قطعات کامپیوتر را خودم ارتقا دهم؟\", \"answer\": \"بله، با مطالعه یا مشاوره از کارشناسان، می‌توانید قطعاتی مثل RAM، حافظه و کارت گرافیک را ارتقا دهید.\"},\n",
        "        {\"question\": \"آیا سیستم عامل لینوکس برای استفاده روزمره مناسب است؟\", \"answer\": \"بله، لینوکس برای کاربران حرفه‌ای و کسانی که نیاز به کنترل بیشتر دارند مناسب است.\"},\n",
        "        {\"question\": \"چگونه سرعت سیستم خود را افزایش دهم؟\", \"answer\": \"ارتقای RAM، تعویض HDD با SSD و بستن برنامه‌های غیرضروری کمک می‌کند.\"},\n",
        "        {\"question\": \"چه نوع کیبوردی برای من مناسب است؟\", \"answer\": \"برای تایپ، کیبوردهای مکانیکی و برای بازی کیبوردهای RGB انتخاب‌های مناسبی هستند.\"},\n",
        "        {\"question\": \"آیا خرید لپ‌تاپ بهتر است یا کامپیوتر رومیزی؟\", \"answer\": \"برای جابه‌جایی راحت، لپ‌تاپ بهتر است. اما کامپیوتر رومیزی برای بازی و کارهای سنگین مناسب‌تر است.\"},\n",
        "        {\"question\": \"آیا کارت گرافیک خارجی ارزش خرید دارد؟\", \"answer\": \"اگر لپ‌تاپ دارید و می‌خواهید قدرت گرافیکی بیشتری داشته باشید، کارت گرافیک خارجی گزینه مناسبی است.\"},\n",
        "        {\"question\": \"چگونه از خرابی قطعات جلوگیری کنم؟\", \"answer\": \"نگهداری مناسب، جلوگیری از گرمای بیش از حد و استفاده از محافظ برق کمک می‌کند.\"},\n",
        "        {\"question\": \"چگونه یک منبع تغذیه مناسب انتخاب کنم؟\", \"answer\": \"با توجه به نیاز قطعات و وات مصرفی آن‌ها، یک منبع تغذیه با کیفیت و وات مناسب تهیه کنید.\"},\n",
        "        {\"question\": \"آیا استفاده از آنتی‌ویروس ضروری است؟\", \"answer\": \"بله، برای محافظت از اطلاعات و سیستم، نصب یک آنتی‌ویروس معتبر توصیه می‌شود.\"},\n",
        "        {\"question\": \"آیا می‌توانم از سیستم‌های گیمینگ برای کارهای اداری استفاده کنم؟\", \"answer\": \"بله، اما معمولاً گران‌تر هستند و برای کارهای اداری بیش از حد نیاز هستند.\"},\n",
        "        {\"question\": \"آیا نمایشگر 4K ارزش خرید دارد؟\", \"answer\": \"برای کارهای گرافیکی و تماشای فیلم‌های با کیفیت بالا، نمایشگر 4K گزینه خوبی است.\"},\n",
        "        {\"question\": \"آیا همه مادربردها با همه پردازنده‌ها سازگارند؟\", \"answer\": \"خیر، باید از سازگاری سوکت مادربرد با پردازنده مطمئن شوید.\"},\n",
        "        {\"question\": \"چگونه نرم‌افزارها را به‌روزرسانی کنم؟\", \"answer\": \"از تنظیمات نرم‌افزارها یا وب‌سایت‌های رسمی آن‌ها استفاده کنید.\"},\n",
        "        {\"question\": \"آیا به محافظ صفحه نیاز دارم؟\", \"answer\": \"برای جلوگیری از خش و کثیفی، محافظ صفحه مناسب است.\"},\n",
        "        {\"question\": \"آیا استفاده از UPS ضروری است؟\", \"answer\": \"برای جلوگیری از آسیب‌های ناشی از قطع برق، UPS توصیه می‌شود.\"},\n",
        "        {\"question\": \"آیا نیاز به ارتقای مداوم سیستم دارم؟\", \"answer\": \"اگر کاربری شما تغییر کرده یا قطعات قدیمی شده‌اند، ارتقا لازم است.\"},\n",
        "        {\"question\": \"چه نوع مادربردی برای گیمینگ مناسب است؟\", \"answer\": \"مادربردهایی با چیپست‌های Z سری برای گیمینگ مناسب هستند.\"},\n",
        "        {\"question\": \"آیا استفاده از رم DDR5 ضروری است؟\", \"answer\": \"برای سیستم‌های جدید و پیشرفته، رم DDR5 مناسب است.\"},\n",
        "        {\"question\": \"آیا می‌توانم ویندوز را رایگان نصب کنم؟\", \"answer\": \"نسخه‌های آزمایشی رایگان هستند، اما برای فعال‌سازی کامل نیاز به خرید لایسنس دارید.\"},\n",
        "        {\"question\": \"آیا یک کیس زیبا و گران ارزش خرید دارد؟\", \"answer\": \"اگر ظاهر برای شما مهم است، خرید یک کیس زیبا گزینه خوبی است.\"},\n",
        "        {\"question\": \"آیا استفاده از هارد اکسترنال بهتر از افزایش حافظه داخلی است؟\", \"answer\": \"برای ذخیره‌سازی و جابه‌جایی داده‌ها، هارد اکسترنال مناسب‌تر است.\"},\n",
        "        {\"question\": \"آیا لپ‌تاپ‌های گیمینگ برای کارهای سنگین مناسب‌اند؟\", \"answer\": \"بله، اما ممکن است قیمت بالایی داشته باشند.\"},\n",
        "        {\"question\": \"چگونه از کامپیوتر خود در برابر بدافزار محافظت کنم؟\", \"answer\": \"استفاده از آنتی‌ویروس و عدم کلیک روی لینک‌های ناشناخته کمک می‌کند.\"},\n",
        "        {\"question\": \"چگونه یک سیستم خنک‌کننده مایع انتخاب کنم؟\", \"answer\": \"بر اساس نوع کیس و قدرت پردازنده، سیستم خنک‌کننده مناسب را انتخاب کنید.\"},\n",
        "        {\"question\": \"آیا سیستم‌های All-in-One گزینه خوبی هستند؟\", \"answer\": \"برای صرفه‌جویی در فضا و استفاده روزمره، مناسب‌اند.\"},\n",
        "        {\"question\": \"آیا استفاده از رم بیشتر همیشه بهتر است؟\", \"answer\": \"اگر برنامه‌های سنگین استفاده می‌کنید، رم بیشتر به عملکرد بهتر کمک می‌کند.\"},\n",
        "    ]\n",
        "    return question_bank\n"
      ],
      "metadata": {
        "id": "K8ntqj1MGtjk"
      },
      "execution_count": 1,
      "outputs": []
    },
    {
      "cell_type": "code",
      "source": [
        "def load_model():\n",
        "    return SentenceTransformer(\"HooshvareLab/bert-fa-zwnj-base\")"
      ],
      "metadata": {
        "id": "DHA5jevFG0M4"
      },
      "execution_count": null,
      "outputs": []
    },
    {
      "cell_type": "code",
      "source": [
        "def find_best_answer(user_question, df, model):\n",
        "    embeddings = model.encode(df['question'].tolist(), convert_to_tensor=True)\n",
        "    user_embedding = model.encode(user_question, convert_to_tensor=True)\n",
        "    scores = util.pytorch_cos_sim(user_embedding, embeddings)[0]\n",
        "    best_match_idx = scores.argmax().item()\n",
        "\n",
        "    print(f\"Best match score: {scores[best_match_idx]}\")\n",
        "    if scores[best_match_idx] > 0.3:\n",
        "        return df.iloc[best_match_idx]['answer']\n",
        "\n",
        "    print(f\"No match found, searching on SerpApi...\")\n",
        "    return search_on_serpapi_and_update_bank(user_question, df)"
      ],
      "metadata": {
        "id": "O3aY1h13G9Ym"
      },
      "execution_count": null,
      "outputs": []
    },
    {
      "cell_type": "code",
      "source": [
        "def search_on_google_and_update_bank(user_question, df):\n",
        "    API_KEY = \"461583492cfd960bc73685780ae1a239584b8b8e32275691394d5ff5237fd683\"\n",
        "    serpapi_answer = serpapi_search(user_question, API_KEY)\n",
        "\n",
        "    df = df.append({\"question\": user_question, \"answer\": serpapi_answer}, ignore_index=True)\n",
        "\n",
        "    return serpapi_answer\n"
      ],
      "metadata": {
        "id": "myi5IHnmHCSC"
      },
      "execution_count": null,
      "outputs": []
    },
    {
      "cell_type": "code",
      "source": [
        "def chatbot_interface(user_question):\n",
        "    df = pd.DataFrame(load_question_bank())\n",
        "    model = load_model()\n",
        "    return find_best_answer(user_question, df, model)"
      ],
      "metadata": {
        "id": "GglyJTmRL26L"
      },
      "execution_count": null,
      "outputs": []
    },
    {
      "cell_type": "code",
      "source": [],
      "metadata": {
        "id": "_CESW6zVsD1M"
      },
      "execution_count": null,
      "outputs": []
    },
    {
      "cell_type": "code",
      "source": [
        "def create_gui():\n",
        "    interface = gr.Interface(\n",
        "        fn=chatbot_interface,\n",
        "        inputs=\"text\",\n",
        "        outputs=\"text\",\n",
        "        title=\"چت‌بات فارسی \",\n",
        "        description=\"چت‌باتی برای پاسخ به سوالات شما.\",\n",
        "        theme=\"huggingface\"\n",
        "    )\n",
        "    return interface"
      ],
      "metadata": {
        "id": "vKtZyrihL7J4"
      },
      "execution_count": null,
      "outputs": []
    },
    {
      "cell_type": "code",
      "source": [
        "chatbot_app = create_gui()\n",
        "chatbot_app.launch(share=True)"
      ],
      "metadata": {
        "colab": {
          "base_uri": "https://localhost:8080/",
          "height": 680
        },
        "id": "sn91ESShMAEC",
        "outputId": "d664ed78-d530-4ffc-ef53-29843e22e069"
      },
      "execution_count": null,
      "outputs": [
        {
          "output_type": "stream",
          "name": "stderr",
          "text": [
            "/usr/local/lib/python3.10/dist-packages/gradio/blocks.py:1048: UserWarning: Cannot load huggingface. Caught Exception: 404 Client Error: Not Found for url: https://huggingface.co/api/spaces/huggingface (Request ID: Root=1-675428f3-31fc8afe1783f1536db1ecb1;9f9e9ce4-2039-4416-b021-b957517919e6)\n",
            "\n",
            "Sorry, we can't find the page you are looking for.\n",
            "  warnings.warn(f\"Cannot load {theme}. Caught Exception: {str(e)}\")\n"
          ]
        },
        {
          "output_type": "stream",
          "name": "stdout",
          "text": [
            "Colab notebook detected. To show errors in colab notebook, set debug=True in launch()\n",
            "* Running on public URL: https://84bcb6fcea2b439ed8.gradio.live\n",
            "\n",
            "This share link expires in 72 hours. For free permanent hosting and GPU upgrades, run `gradio deploy` from the terminal in the working directory to deploy to Hugging Face Spaces (https://huggingface.co/spaces)\n"
          ]
        },
        {
          "output_type": "display_data",
          "data": {
            "text/plain": [
              "<IPython.core.display.HTML object>"
            ],
            "text/html": [
              "<div><iframe src=\"https://84bcb6fcea2b439ed8.gradio.live\" width=\"100%\" height=\"500\" allow=\"autoplay; camera; microphone; clipboard-read; clipboard-write;\" frameborder=\"0\" allowfullscreen></iframe></div>"
            ]
          },
          "metadata": {}
        },
        {
          "output_type": "execute_result",
          "data": {
            "text/plain": []
          },
          "metadata": {},
          "execution_count": 21
        }
      ]
    }
  ]
}